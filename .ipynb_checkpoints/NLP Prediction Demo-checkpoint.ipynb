{
 "cells": [
  {
   "cell_type": "markdown",
   "id": "8bf900af",
   "metadata": {},
   "source": [
    "#### 1) Data Exploration\n"
   ]
  },
  {
   "cell_type": "code",
   "execution_count": 3,
   "id": "4ed1d4b0",
   "metadata": {},
   "outputs": [],
   "source": [
    "# Import libraries\n",
    "\n",
    "import time\n",
    "import copy\n",
    "import numpy as np\n",
    "import pandas as pd\n",
    "import seaborn as sns\n",
    "import matplotlib.pyplot as plt\n",
    "%matplotlib inline\n",
    "\n",
    "import re \n",
    "import nltk \n",
    "nltk.download('stopwords')\n",
    "nltk.download('wordnet')\n",
    "from nltk.tokenize import RegexpTokenizer\n",
    "from collections import Counter \n",
    "from nltk.tokenize import word_tokenize\n",
    "from nltk.stem import WordNetLemmatizer  # lemmatize\n",
    "from nltk.corpus import stopwords\n",
    "\n",
    "\n",
    "\n",
    "from sklearn.feature_extraction.text import , TfidfTransformer\n",
    "from sklearn.feature_extraction.text import CountVectorizer #Bag of words\n",
    "from sklearn.feature_extraction.text import TfidfVectorizer # Tfid\n",
    "\n",
    "from sklearn.preprocessing import LabelEncoder\n",
    "from sklearn.feature_selection import VarianceThreshold\n",
    "from sklearn.model_selection import train_test_split\n",
    "from sklearn import svm\n",
    "from sklearn.naive_bayes import MultinomialNB\n",
    "from sklearn.ensemble import AdaBoostClassifier, GradientBoostingClassifier\n",
    "from sklearn.tree import DecisionTreeClassifier\n",
    "from imblearn.over_sampling import SMOTE\n",
    "from sklearn.dummy import DummyClassifier\n",
    "from sklearn.naive_bayes import MultinomialNB\n",
    "from sklearn.tree import DecisionTreeClassifier\n",
    "from sklearn.neural_network import MLPClassifier\n",
    "from sklearn.ensemble import RandomForestClassifier\n",
    "import xgboost \n",
    "from sklearn.metrics  import classification_report, accuracy_score, confusion_matrix\n",
    "\n",
    "\n",
    "import warnings\n",
    "warnings.filterwarnings(\"ignore\")"
   ]
  },
  {
   "cell_type": "code",
   "execution_count": null,
   "id": "81d120be",
   "metadata": {},
   "outputs": [],
   "source": []
  },
  {
   "cell_type": "code",
   "execution_count": null,
   "id": "16c3a309",
   "metadata": {},
   "outputs": [],
   "source": [
    "#  load word and char tfidf vectors\n",
    "PATH_ROOT = r'../' \n",
    "\n",
    "#  load dataset\n",
    "def load_data(path):\n",
    "    with open(PATH_ROOT + path, 'rb') as handle:\n",
    "        dataset = pickle.load(handle)\n",
    "    return dataset"
   ]
  },
  {
   "cell_type": "code",
   "execution_count": null,
   "id": "1fe70675",
   "metadata": {},
   "outputs": [],
   "source": [
    "# Load Word&Char TF-IDF Vectors\n",
    "\n",
    "with open(PATH_ROOT + 'vectors/interpress_news_category_tr_lite_train_cleaned_tfidf_word_2000.pkl', 'rb') as handle:\n",
    "    word_tfidf = pickle.load(handle)\n",
    "\n",
    "with open(PATH_ROOT + 'vectors/interpress_news_category_tr_lite_train_cleaned_tfidf_char_2000.pkl', 'rb') as handle:\n",
    "    char_tfidf = pickle.load(handle)"
   ]
  },
  {
   "cell_type": "code",
   "execution_count": null,
   "id": "91b3fe36",
   "metadata": {},
   "outputs": [],
   "source": [
    "# Load Cleaned Train&Test Dataset\n",
    "\n",
    "df_train = load_data(r\"datasets/interpress_news_category_tr_lite_train_cleaned.pkl\")\n",
    "df_test = load_data(r\"datasets/interpress_news_category_tr_lite_test_cleaned.pkl\")"
   ]
  },
  {
   "cell_type": "markdown",
   "id": "19c866f0",
   "metadata": {},
   "source": [
    "# 4. Prediction"
   ]
  },
  {
   "cell_type": "code",
   "execution_count": null,
   "id": "ee5e62fc",
   "metadata": {},
   "outputs": [],
   "source": [
    "from scipy.sparse import hstack\n",
    "import pandas as pd\n",
    "import pickle\n",
    "import re\n",
    "import string\n",
    "from collections import defaultdict\n",
    "#  load word and char tfidf vectors\n",
    "PATH_ROOT = r'../' \n",
    "PATH_STOPWORDS_TR = PATH_ROOT + 'data/stopwords_tr_interpress.pkl'\n",
    "PATH_BLACKLIST_TR = PATH_ROOT + 'data/tr-blacklist.pkl'\n",
    "\n",
    "#  load dataset\n",
    "def load_data(path):\n",
    "    with open(PATH_ROOT + path, 'rb') as handle:\n",
    "        dataset = pickle.load(handle)\n",
    "    return dataset\n",
    "labels = {\n",
    "    0 : \"Kültür-Sanat\",\n",
    "    1 : \"Ekonomi\",\n",
    "    2 : \"Siyaset\",\n",
    "    3 : \"Eğitim\",\n",
    "    4 : \"Dünya\",\n",
    "    5 : \"Spor\",\n",
    "    6 : \"Teknoloji\",\n",
    "    7 : \"Magazin\",\n",
    "    8 : \"Sağlık\",\n",
    "    9 : \"Gündem\"\n",
    "}"
   ]
  },
  {
   "cell_type": "code",
   "execution_count": null,
   "id": "685ae23e",
   "metadata": {},
   "outputs": [],
   "source": [
    "# Load TF-IDF Word&Char Vectors\n",
    "with open(PATH_ROOT + 'vectors/interpress_news_category_tr_lite_train_cleaned_tfidf_word_2000.pkl', 'rb') as handle:\n",
    "    word_tfidf = pickle.load(handle)\n",
    "\n",
    "with open(PATH_ROOT + 'vectors/interpress_news_category_tr_lite_train_cleaned_tfidf_char_2000.pkl', 'rb') as handle:\n",
    "    char_tfidf = pickle.load(handle)"
   ]
  },
  {
   "cell_type": "code",
   "execution_count": null,
   "id": "455a4ac0",
   "metadata": {},
   "outputs": [],
   "source": [
    "#Load SVM Model\n",
    "#  load model\n",
    "with open(PATH_ROOT + 'models/interpress_news_category_tr_lite_classifier_svm_model_4000.sav', 'rb') as handle:\n",
    "    model = pickle.load(handle)"
   ]
  },
  {
   "cell_type": "markdown",
   "id": "e69f8ce2",
   "metadata": {},
   "source": [
    "## Custom prediction"
   ]
  },
  {
   "cell_type": "markdown",
   "id": "c10f8112",
   "metadata": {},
   "source": [
    "### Sample 1 "
   ]
  },
  {
   "cell_type": "code",
   "execution_count": null,
   "id": "cd7385ce",
   "metadata": {},
   "outputs": [],
   "source": [
    "#news = r\"Çin biyoteknoloji şirketleri China National Pharmaceutical Group (Sinopharm) ve Chongqing Zhifei Biological Products'ın bir yan kuruluşu tarafından geliştirilen iki corona virüs aşının Güney Afrika mutasyonuna karşı bağışıklığı tetiklediği açıklandı. BioRxiv adlı dergide ön baskısı yayımlanan laboratuvar araştırmasında, aşıyı yaptıran kişilerin kan örnekleri analiz edildi. Araştırmacılar, aşının tetiklediği antikorların Güney Afrika varyantına karşı nötrleştirme aktivitesini koruduğunu söyledi. Makale, Sinopharm'a bağlı Pekin Biyolojik Ürünler Enstitüsü, Çin Bilimler Akademisi Mikrobiyoloji Enstitüsü araştırmacıları tarafından yazıldı. AŞILARIN ETKİNLİĞİ DÜŞTÜ Bununla birlikte,  alınan örneklerdeki antikorların mutant virüse karşı aktivitesinin  orijinal virüse göre daha zayıf olduğu ifade edildi. Bilim insanları, aktivite azalmasının aşıların klinik etkililiğine olan etkisi dikkate alınmalıdır açıklamasını yaptı. Ancak, aşılardaki etkinliğin hangi oranda düştüğü belirtilmedi. Öte yandan, yüzde 79 oranında  etkili olduğu açıklanan Sinopharm aşısı Çin'de genel kullanım için onaylandı  ve Birleşik Arap Emirlikleri (BAE) de  dahil olmak üzere diğer birçok ülkede de kullanıllıyor. \"\n",
    "#news = \"Şu sıralar 'Çukur' dizisinde 'Vartolu Sadettin' karakteriyle ekranlarda boy gösteren oyuncu Erkan Kolçak Köstendil ve meslektaşı Cansu Tosun 2018 yılında nikah masasına oturmuştu. Çift şu sıralar bebek heyecanı yaşıyor.Cansu Tosun 4.5 aylık hamile. Cansu Tosun ve Erkan Kolçak Köstendil'in bebeklerinin adına karar verdi.\"\n",
    "#news = \"Batı dünyasında çok sık rastlanılan, bebek ölümlerine neden olan genetik hastalık SMA'ya, son yıllarda ülkemizde de sık rastlanılmaya başladı. Edinburgh Üniversitesi'nde yapılan deneye göre her 6 bin doğumdan birinde görülen SMA tanısı %95 delesyon tanısı olarak DNA testi sonucuyla konuyor. Geriye kalan %5 oranındaki bozukluk diğer hasar veren mutasyonlar şeklinde gelişebiliyor. 6000 – 10000 doğumda bir görülebilen hastalıkta 40 çocuktan biri taşıyıcı olabiliyor. Her iki ebeveynden bozuk gen çocuğa geçtiğinde ancak çocuk SMA hastası olabiliyor. Sadece anneden veya sadece babadan bozuk gen aktarımı çocukta hastalık oluşturmuyor, ancak taşıyıcılık oluşturabiliyor..\"\n",
    "news = \"Faizsiz konut ve taşıt edindiren şirketlere yönelik yasa teklifi Meclis’e sunuldu. 100 milyon lira sermaye şartının etkisi ve BDDK incelemeleri sonrasında firmaların büyük kısmının tasfiye edilmesi, müşterilerin kurumsal firmalara aktarılması bekleniyor.\"\n",
    "#news = \"PSG'nin dünyaca ünlü yıldız futbolcusu Neymar, sakatlığı sebebiyle 4 hafta sahalardan uzak kalacak. Neymar'ın son yıllarda kız kardeşi Rafaella Santos'un doğum gününe denk gelen tarihlerde sakatlanması dikkat çekiyor...\"\n",
    "#news = \"Brezilyalı futbolcu, son yıllarda kardeşinin doğum günü tarihine gelecek şekilde sakatlanıyor. Senaryo, bu yıl da değişmedi. 4 hafta sahalardan uzak kalacak olan Neymar, bir kez daha kız kardeşinin doğum gününde sahalarda olmayacak.2015 ve 2016 yıllarında 11 Mart tarihlerinde kart cezalısı olduğu için Brezilya'da olan Neymar, 2017, 2018, 2019, 2020 ve 2021'de ise bu tarihlerde sakatlık geçirdi. Bu tarihlerde sakat veya cezalı olduğu için Brezilya'ya giden Neymar, bu yıl da Rafaella'nın doğum gününde Brezilya'da olacak.\" \n",
    "cleaned_news = clean_text(news)"
   ]
  },
  {
   "cell_type": "code",
   "execution_count": null,
   "id": "9d09ada1",
   "metadata": {},
   "outputs": [],
   "source": [
    "cleaned_news"
   ]
  },
  {
   "cell_type": "code",
   "execution_count": null,
   "id": "79981084",
   "metadata": {},
   "outputs": [],
   "source": [
    "news"
   ]
  },
  {
   "cell_type": "code",
   "execution_count": null,
   "id": "abca36c2",
   "metadata": {},
   "outputs": [],
   "source": [
    "##Preprocessing\n",
    "\n",
    "#  preprocessing\n",
    "\n",
    "word_transformed_news = word_tfidf.transform([cleaned_news])\n",
    "char_transformed_news = char_tfidf.transform([cleaned_news])\n",
    "news_featured = hstack([word_transformed_news, char_transformed_news])\n",
    "labels"
   ]
  },
  {
   "cell_type": "code",
   "execution_count": null,
   "id": "72eb7f96",
   "metadata": {},
   "outputs": [],
   "source": [
    "## Prediction Result\n",
    "#  model prediction\n",
    "result = model.predict(news_featured)\n",
    "print(result)\n",
    "print(labels[result[0]])"
   ]
  },
  {
   "cell_type": "markdown",
   "id": "90ee676b",
   "metadata": {},
   "source": [
    "### Sample 2\n"
   ]
  },
  {
   "cell_type": "code",
   "execution_count": null,
   "id": "fbd24124",
   "metadata": {},
   "outputs": [],
   "source": [
    "news = \"PSG'nin dünyaca ünlü yıldız futbolcusu Neymar, sakatlığı sebebiyle 4 hafta sahalardan uzak kalacak. Neymar'ın son yıllarda kız kardeşi Rafaella Santos'un doğum gününe denk gelen tarihlerde sakatlanması dikkat çekiyor...\"\n",
    "\n",
    "cleaned_news = clean_text(news)\n",
    "cleaned_news"
   ]
  },
  {
   "cell_type": "code",
   "execution_count": null,
   "id": "b57135ff",
   "metadata": {},
   "outputs": [],
   "source": [
    "#  preprocessing\n",
    "word_transformed_news = word_tfidf.transform([cleaned_news])\n",
    "char_transformed_news = char_tfidf.transform([cleaned_news])\n",
    "news_featured = hstack([word_transformed_news, char_transformed_news])\n",
    "\n",
    "#  model prediction\n",
    "result = model.predict(news_featured)\n",
    "print(result)\n",
    "print(labels[result[0]])"
   ]
  },
  {
   "cell_type": "code",
   "execution_count": null,
   "id": "3f69f458",
   "metadata": {},
   "outputs": [],
   "source": []
  },
  {
   "cell_type": "markdown",
   "id": "c649e119",
   "metadata": {},
   "source": [
    "### Apply Models"
   ]
  },
  {
   "cell_type": "code",
   "execution_count": null,
   "id": "42a69bb9",
   "metadata": {},
   "outputs": [],
   "source": [
    "from sklearn.linear_model import LogisticRegression\n",
    "from sklearn.metrics import confusion_matrix\n",
    "from sklearn.metrics import plot_confusion_matrix\n",
    "from sklearn.metrics import classification_report\n",
    "from sklearn.metrics import accuracy_score\n",
    "#https://scikit-learn.org/stable/modules/generated/sklearn.linear_model.LogisticRegression.html\n",
    "#sklearn.linear_model.LogisticRegression\n",
    "lr_model = LogisticRegression(penalty='l2',solver= 'newton-cg',multi_class= 'multinomial')\n",
    "# L2 = L2 regularization helps to overcome (overfitting vs underfitting)\n",
    "# solver = newton-cg ... For multiclass problems, only ‘newton-cg’, ‘sag’, ‘saga’ and ‘lbfgs’ handle multinomial loss; ‘liblinear’ is limited to one-versus-rest schemes.\n",
    "lr_model.fit(X_train,y_train)\n",
    "pred = lr_model.predict(X_val)\n",
    "print(\"first 20 actual labels\")\n",
    "print(y_val.tolist()[:20])\n",
    "print(\"first 20 predicted labels\")\n",
    "print(pred.tolist()[:20])\n",
    "first 20 actual labels\n",
    "[2, 4, 2, 1, 2, 3, 1, 1, 1, 3, 1, 1, 4, 1, 3, 1, 3, 2, 1, 3]\n",
    "first 20 predicted labels\n",
    "[1, 4, 2, 1, 2, 2, 1, 2, 1, 3, 1, 1, 3, 1, 2, 1, 3, 2, 1, 3]\n",
    "Confusion Matrix\n",
    "def confusion_mat(color):\n",
    "    cof=confusion_matrix(y_val, pred)\n",
    "    cof=pd.DataFrame(cof, index=[i for i in range(1,5)], columns=[i for i in range(1,5)])\n",
    "    sns.set(font_scale=1.5)\n",
    "    plt.figure(figsize=(8,8));\n",
    "\n",
    "    sns.heatmap(cof, cmap=color,linewidths=1, annot=True,square=True, fmt='d', cbar=False,xticklabels=['World','Sports','Business','Science'],yticklabels=['World','Sports','Business','Science']);\n",
    "    plt.xlabel(\"Predicted Classes\");\n",
    "    plt.ylabel(\"Actual Classes\");\n",
    "confusion_mat('YlGnBu')"
   ]
  },
  {
   "cell_type": "code",
   "execution_count": null,
   "id": "9fa1132f",
   "metadata": {},
   "outputs": [],
   "source": [
    "Precision , Recall ,F1-Score\n",
    "print('\\nClassification Report\\n')\n",
    "print(classification_report(y_val,pred))"
   ]
  },
  {
   "cell_type": "code",
   "execution_count": null,
   "id": "66d6ac9b",
   "metadata": {},
   "outputs": [],
   "source": [
    "Accuracy , Error\n",
    "a1 = round(accuracy_score(y_val,pred)*100,4)\n",
    "a2 = round(100-accuracy_score(y_val,pred)*100,4)\n",
    "print('Accuracy:',a1)\n",
    "print('Error:',a2)"
   ]
  },
  {
   "cell_type": "code",
   "execution_count": null,
   "id": "2e025150",
   "metadata": {},
   "outputs": [],
   "source": []
  },
  {
   "cell_type": "code",
   "execution_count": null,
   "id": "a6fba55b",
   "metadata": {},
   "outputs": [],
   "source": [
    "from sklearn.linear_model import SGDClassifier\n",
    "sgd_model = SGDClassifier(early_stopping=True,penalty='l2',alpha=0.00001)\n",
    "sgd_model.fit(X_train,y_train)\n",
    "pred_sgd = sgd_model.predict(X_val)\n",
    "print(\"first 20 actual labels\")\n",
    "print(y_val.tolist()[:20])\n",
    "print(\"first 20 predicted labels\")\n",
    "print(pred_sgd.tolist()[:20])"
   ]
  },
  {
   "cell_type": "code",
   "execution_count": null,
   "id": "d0271f58",
   "metadata": {},
   "outputs": [],
   "source": [
    "Confusion matrix\n",
    "def confusion_mat(color):\n",
    "    cof=confusion_matrix(y_val, pred_sgd)\n",
    "    cof=pd.DataFrame(cof, index=[i for i in range(1,5)], columns=[i for i in range(1,5)])\n",
    "    sns.set(font_scale=1.5)\n",
    "    plt.figure(figsize=(8,8));\n",
    "\n",
    "    sns.heatmap(cof, cmap=color,linewidths=1, annot=True,square=True, fmt='d', cbar=False,xticklabels=['World','Sports','Business','Science'],yticklabels=['World','Sports','Business','Science']);\n",
    "    plt.xlabel(\"Predicted Classes\");\n",
    "    plt.ylabel(\"Actual Classes\");\n",
    "confusion_mat('Greys')"
   ]
  },
  {
   "cell_type": "code",
   "execution_count": null,
   "id": "34e48a98",
   "metadata": {},
   "outputs": [],
   "source": [
    "Precision ,Recall,F1-Score\n",
    "print('\\nClassification Report\\n')\n",
    "print((classification_report(y_val,pred_sgd)))"
   ]
  },
  {
   "cell_type": "code",
   "execution_count": null,
   "id": "c435a916",
   "metadata": {},
   "outputs": [],
   "source": []
  },
  {
   "cell_type": "code",
   "execution_count": null,
   "id": "ec587c12",
   "metadata": {},
   "outputs": [],
   "source": [
    "Accuracy\n",
    "b1 = round(accuracy_score(y_val,pred_sgd)*100,4)\n",
    "b2 = round(100-accuracy_score(y_val,pred_sgd)*100,4)\n",
    "print('Accuracy:',b1)\n",
    "print('Error:',b2)"
   ]
  },
  {
   "cell_type": "code",
   "execution_count": null,
   "id": "b56bdddf",
   "metadata": {},
   "outputs": [],
   "source": []
  },
  {
   "cell_type": "code",
   "execution_count": null,
   "id": "c79e9c0a",
   "metadata": {},
   "outputs": [],
   "source": []
  },
  {
   "cell_type": "code",
   "execution_count": null,
   "id": "98afcc08",
   "metadata": {},
   "outputs": [],
   "source": [
    "from sklearn.tree import DecisionTreeClassifier\n",
    "dt_model = DecisionTreeClassifier(criterion='gini')\n",
    "dt_model.fit(X_train,y_train)\n",
    "pred_dtg = dt_model.predict(X_val)\n",
    "print(\"first 20 actual labels\")\n",
    "print(y_val.tolist()[:20])\n",
    "print(\"first 20 predicted labels\")\n",
    "print(pred_dtg.tolist()[:20])"
   ]
  },
  {
   "cell_type": "code",
   "execution_count": null,
   "id": "508ab4f1",
   "metadata": {},
   "outputs": [],
   "source": [
    "Confusion matrix\n",
    "def confusion_mat(color):\n",
    "    cof=confusion_matrix(y_val, pred_dtg)\n",
    "    cof=pd.DataFrame(cof, index=[i for i in range(1,5)], columns=[i for i in range(1,5)])\n",
    "    sns.set(font_scale=1.5)\n",
    "    plt.figure(figsize=(8,8));\n",
    "\n",
    "    sns.heatmap(cof, cmap=color,linewidths=1, annot=True,square=True, fmt='d', cbar=False,xticklabels=['World','Sports','Business','Science'],yticklabels=['World','Sports','Business','Science']);\n",
    "    plt.xlabel(\"Predicted Classes\");\n",
    "    plt.ylabel(\"Actual Classes\");\n",
    "confusion_mat('RdYlBu')"
   ]
  },
  {
   "cell_type": "code",
   "execution_count": null,
   "id": "1326989b",
   "metadata": {},
   "outputs": [],
   "source": [
    "Precision, Recall ,F1-Score\n",
    "print('\\nClassification Report\\n')\n",
    "print((classification_report(y_val,pred_dtg)))"
   ]
  },
  {
   "cell_type": "code",
   "execution_count": null,
   "id": "dc82d5f4",
   "metadata": {},
   "outputs": [],
   "source": [
    "Accuracy\n",
    "c1 = round(accuracy_score(y_val,pred_dtg)*100,4)\n",
    "c2 = round(100-accuracy_score(y_val,pred_dtg)*100,4)\n",
    "print('Accuracy:',c1)\n",
    "print('Error:',c2)"
   ]
  },
  {
   "cell_type": "code",
   "execution_count": null,
   "id": "db92aaaa",
   "metadata": {},
   "outputs": [],
   "source": []
  },
  {
   "cell_type": "code",
   "execution_count": null,
   "id": "3033afc1",
   "metadata": {},
   "outputs": [],
   "source": [
    "Comparison of Accuracies of Different Models for Dtrain and Dvalidation\n",
    "sns.set()\n",
    "fig = plt.figure()\n",
    "ax = fig.add_axes([0,0,1,1])\n",
    "Models = [\"Logistic_Regression\",\"Stocastic_Gradient_Descent\",\"Decison_Tree\"]\n",
    "Accuracy=[a1,b1,c1]\n",
    "ax.bar(Models,Accuracy,color=['#702963','#8a2be2','#9966cc']);\n",
    "for i in ax.patches:\n",
    "    ax.text(i.get_x()+.1, i.get_height()-7.8, str(round(i.get_height(),2))+'%', fontsize=20, color='white')\n",
    "plt.title('Comparison of Different Classification Models');\n",
    "plt.ylabel('Accuracy');\n",
    "plt.xlabel('Classification Models');\n",
    "\n",
    "plt.show();"
   ]
  },
  {
   "cell_type": "code",
   "execution_count": null,
   "id": "34f87fe7",
   "metadata": {},
   "outputs": [],
   "source": []
  },
  {
   "cell_type": "code",
   "execution_count": null,
   "id": "2b77545b",
   "metadata": {},
   "outputs": [],
   "source": [
    "Checking accuracy for Unseen data (Dtest) in Logistic Regression\n",
    "pred_lr_for_unseen = lr_model.predict(X_test)\n",
    "a11 = round(accuracy_score(y_test,pred_lr_for_unseen)*100,4)\n",
    "a22 = round(100-accuracy_score(y_test,pred_lr_for_unseen)*100,4)\n",
    "print('Accuracy:',a11)\n",
    "print('Error:',a22)"
   ]
  },
  {
   "cell_type": "code",
   "execution_count": null,
   "id": "853ef95a",
   "metadata": {},
   "outputs": [],
   "source": []
  },
  {
   "cell_type": "code",
   "execution_count": null,
   "id": "4db86cff",
   "metadata": {},
   "outputs": [],
   "source": [
    "Checking accuracy for Unseen data (Dtest) in SGD\n",
    "pred_sgd_for_unseen = sgd_model.predict(X_test)\n",
    "b11 = round(accuracy_score(y_test,pred_sgd_for_unseen)*100,4)\n",
    "b22 = round(100-accuracy_score(y_test,pred_sgd_for_unseen)*100,4)\n",
    "print('Accuracy:',b11)\n",
    "print('Error:',b22)"
   ]
  },
  {
   "cell_type": "code",
   "execution_count": null,
   "id": "54d5af83",
   "metadata": {},
   "outputs": [],
   "source": []
  },
  {
   "cell_type": "code",
   "execution_count": null,
   "id": "3e47e5cd",
   "metadata": {},
   "outputs": [],
   "source": [
    "Checking accuracy for Unseen data (Dtest) in Decision Tree\n",
    "pred_dtg_for_unseen = dt_model.predict(X_test)\n",
    "c11 = round(accuracy_score(y_test,pred_dtg_for_unseen)*100,4)\n",
    "c22 = round(100-accuracy_score(y_test,pred_dtg_for_unseen)*100,4)\n",
    "print('Accuracy:',c11)\n",
    "print('Error:',c22)"
   ]
  },
  {
   "cell_type": "code",
   "execution_count": null,
   "id": "4bc36667",
   "metadata": {},
   "outputs": [],
   "source": []
  },
  {
   "cell_type": "code",
   "execution_count": null,
   "id": "874c7af4",
   "metadata": {},
   "outputs": [],
   "source": [
    "Comparison of Accuracies of Different Models on Unseen data (Dtest)\n",
    "sns.set()\n",
    "fig = plt.figure()\n",
    "ax = fig.add_axes([0,0,1,1])\n",
    "Models = [\"Logistic_Regression\",\"Stocastic_Gradient_Descent\",\"Decison_Tree\"]\n",
    "Accuracy=[a11,b11,c11]\n",
    "ax.bar(Models,Accuracy,color=['#702963','#8a2be2','#9966cc']);\n",
    "for i in ax.patches:\n",
    "    ax.text(i.get_x()+.1, i.get_height()-7.8, str(round(i.get_height(),2))+'%', fontsize=20, color='white')\n",
    "plt.title('Comparison of Different Classification Models');\n",
    "plt.ylabel('Accuracy');\n",
    "plt.xlabel('Classification Models');\n",
    "\n",
    "plt.show();"
   ]
  },
  {
   "cell_type": "code",
   "execution_count": null,
   "id": "c6c32836",
   "metadata": {},
   "outputs": [],
   "source": [
    "df.title"
   ]
  },
  {
   "cell_type": "code",
   "execution_count": null,
   "id": "93145c9a",
   "metadata": {},
   "outputs": [],
   "source": []
  },
  {
   "cell_type": "code",
   "execution_count": null,
   "id": "e4c30e12",
   "metadata": {},
   "outputs": [],
   "source": [
    "## 5) Use the Model"
   ]
  },
  {
   "cell_type": "code",
   "execution_count": null,
   "id": "9cb533b9",
   "metadata": {},
   "outputs": [],
   "source": [
    "# Now, I will use the built MultinomialNB model to classify new articles. The articles files inside Articles folder and\n",
    "# here are the articles sources.\n",
    "\n",
    "art1: https://edition.cnn.com/2019/09/30/sport/irish-national-stud-winning-post-spt-intl/index.html\n",
    "art2: https://edition.cnn.com/2020/04/15/tech/amazon-france-suspension/index.html\n",
    "art3: https://edition.cnn.com/2020/04/15/politics/barack-obama-2020-test/index.html\n",
    "art4: https://edition.cnn.com/2020/04/15/entertainment/disney-the-mandalorian-documentary/index.html\n",
    "        "
   ]
  },
  {
   "cell_type": "code",
   "execution_count": null,
   "id": "44748c07",
   "metadata": {},
   "outputs": [],
   "source": [
    "# Classify an article\n",
    "def classify_article(path):\n",
    "    \n",
    "    \"\"\"\n",
    "    Function: classify an article.\n",
    "    Args:\n",
    "      path: the path of the article \n",
    "    Return:\n",
    "      category (str): the category of the article\n",
    "    \"\"\"\n",
    "    # Read file\n",
    "    file = open(path, 'r')\n",
    "    artcl = file.read()\n",
    "\n",
    "    # Text preprocessing\n",
    "    artcl = preprocess(artcl)\n",
    "    artcl = ' '.join(artcl)\n",
    "\n",
    "    # Use TF_IDF\n",
    "    test = tf_vec.transform([artcl])\n",
    "\n",
    "    # Use MultinomialNB model to classify the article\n",
    "    predict = nb.predict(test)\n",
    "    category = predict[0]\n",
    "\n",
    "    # Close file\n",
    "    file.close()\n",
    "\n",
    "    return category"
   ]
  },
  {
   "cell_type": "code",
   "execution_count": null,
   "id": "ff67032a",
   "metadata": {},
   "outputs": [],
   "source": [
    "print(classify_article('Articles/art1.txt'))"
   ]
  },
  {
   "cell_type": "code",
   "execution_count": null,
   "id": "1391a4d8",
   "metadata": {},
   "outputs": [],
   "source": []
  },
  {
   "cell_type": "code",
   "execution_count": null,
   "id": "cbd5ec68",
   "metadata": {},
   "outputs": [],
   "source": []
  },
  {
   "cell_type": "code",
   "execution_count": null,
   "id": "ad3503fd",
   "metadata": {},
   "outputs": [],
   "source": []
  }
 ],
 "metadata": {
  "kernelspec": {
   "display_name": "Python 3 (ipykernel)",
   "language": "python",
   "name": "python3"
  },
  "language_info": {
   "codemirror_mode": {
    "name": "ipython",
    "version": 3
   },
   "file_extension": ".py",
   "mimetype": "text/x-python",
   "name": "python",
   "nbconvert_exporter": "python",
   "pygments_lexer": "ipython3",
   "version": "3.9.7"
  }
 },
 "nbformat": 4,
 "nbformat_minor": 5
}
